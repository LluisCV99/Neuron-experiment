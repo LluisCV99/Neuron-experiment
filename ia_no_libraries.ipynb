{
 "cells": [
  {
   "cell_type": "markdown",
   "id": "72967ee1",
   "metadata": {},
   "source": [
    "# Neurona sense llibreries\n",
    "\n",
    "Petit experiment que he fet, una neurona només amb sa llibreria numpy, sense torch, tensorflow, scikit, etc\n",
    "\n",
    "Entrenaré una neurona amb multiples situacions, començare amb un dataset de una porta logica XOR, aquí aniré apuntant resultats:\n",
    "\n",
    "* XOR: Max aconseguit ha estat 75% de precisió, però per alta probabilitat d'endevinar amb sa primera etapa. Al no ser una classificació lineal, no ho pot representar del tot.\n",
    "* Vertebrat o Invertebrat: 91% de precisió, al ser una classificació lineal, aconsegueix bons resultats ràpidament, sense gaire necessitat d'ajustar paràmetres.\n"
   ]
  },
  {
   "cell_type": "code",
   "execution_count": 102,
   "id": "ecfe70ee",
   "metadata": {},
   "outputs": [],
   "source": [
    "import numpy as np\n",
    "import matplotlib.pyplot as plt\n"
   ]
  },
  {
   "cell_type": "markdown",
   "id": "701d5dea",
   "metadata": {},
   "source": [
    "## Config\n",
    "\n",
    "Aquí tenim com un fitxer config amb totes ses variables des projecte"
   ]
  },
  {
   "cell_type": "code",
   "execution_count": 103,
   "id": "4533ed20",
   "metadata": {},
   "outputs": [],
   "source": [
    "ACTIVATION_FUNCTIONS = {\n",
    "    'sigmoid': lambda x: 1 / (1 + np.exp(-x)),\n",
    "    'tanh': lambda x: np.tanh(x),\n",
    "    'relu': lambda x: np.maximum(0, x)\n",
    "}\n",
    "\n",
    "ACTIVATION_DERIVATIVES = {\n",
    "    'sigmoid': lambda x: x * (1 - x),\n",
    "    'tanh': lambda x: 1 - np.tanh(x)**2,\n",
    "    'relu': lambda x: np.where(x > 0, 1, 0)\n",
    "}\n",
    "\n",
    "SIGMOID = 'sigmoid'\n",
    "TANH = 'tanh'\n",
    "RELU = 'relu'\n",
    "FUNCTION = TANH\n",
    "\n",
    "LEARNING_RATE = 0.01\n",
    "\n",
    "EPOCHS = 300"
   ]
  },
  {
   "cell_type": "markdown",
   "id": "c6a46bde",
   "metadata": {},
   "source": [
    "## Dataset i objectiu\n",
    "\n",
    "Definició des datasets, XOR i vertebrat/invertebrat.\n",
    "\n",
    "Ses columnes des dataset XOR són unicament entrades binàries bàsiques de qualsevol sistema.\n",
    "\n",
    "Ses columnes de vertebrat vs invertebrat són: Num. cames (integer), té exoesquelet(bool), te sang calenta (bool)."
   ]
  },
  {
   "cell_type": "code",
   "execution_count": 104,
   "id": "5acc59a6",
   "metadata": {},
   "outputs": [],
   "source": [
    "# Dataset XOR\n",
    "dataset_xor = np.array([\n",
    "    [0, 0, 0, 0],\n",
    "    [0, 0, 0, 1],\n",
    "    [0, 0, 1, 0],\n",
    "    [0, 0, 1, 1],\n",
    "    [0, 1, 0, 0],\n",
    "    [0, 1, 0, 1],\n",
    "    [0, 1, 1, 0],\n",
    "    [0, 1, 1, 1],\n",
    "    [1, 0, 0, 0],\n",
    "    [1, 0, 0, 1],\n",
    "    [1, 0, 1, 0],\n",
    "    [1, 0, 1, 1],\n",
    "    [1, 1, 0, 0],\n",
    "    [1, 1, 0, 1],\n",
    "    [1, 1, 1, 0],\n",
    "    [1, 1, 1, 1]\n",
    "])\n",
    "objectius_xor = np.array([0, 1, 1, 0, 1, 0, 0, 1, 1, 0, 0, 1, 0, 1, 1, 0])  # Resultats esperats\n",
    "\n",
    "#Dataset Vertebrat vs invertebrat generat per GPT-o4-mini\n",
    "\n",
    "dataset = np.array([\n",
    "    [4, 0, 1],  # Dog\n",
    "    [4, 0, 1],  # Cat\n",
    "    [4, 0, 1],  # Horse\n",
    "    [2, 0, 1],  # Eagle\n",
    "    [4, 0, 0],  # Frog\n",
    "    [0, 0, 0],  # Goldfish\n",
    "    [6, 1, 0],  # Butterfly\n",
    "    [6, 1, 0],  # Ant\n",
    "    [8, 1, 0],  # Spider\n",
    "    [10, 1, 0], # Crab\n",
    "    [8, 0, 0],  # Octopus\n",
    "    [0, 0, 0]   # Worm\n",
    "])\n",
    "\n",
    "# Codificar y: vertebrate=1, invertebrate=0\n",
    "objectius = np.array([\n",
    "    1, 1, 1, 1, 1, 1,  # vertebrates\n",
    "    0, 0, 0, 0, 0, 0   # invertebrates\n",
    "])\n"
   ]
  },
  {
   "cell_type": "markdown",
   "id": "61473bbd",
   "metadata": {},
   "source": [
    "# Definició classe neurona\n",
    "\n",
    "### Paràmetres:\n",
    "* Weights: És un vector de n dimensions, depen de quantes variables conté es dataset per apendre.\n",
    "* Bias: És s'indicador d'altura de sa regressió lineal.\n",
    "* inputs: És un vector per a cada fila des dataset.\n",
    "* Output: És un escalar amb es resultat de s'activació.\n",
    "* Error: És un float amb s'error total acumulat.\n",
    "\n",
    "### Mètodes:\n",
    "* activate(self, inputs, activation_function): Encarregat de realitzar la predicció a partir des inputs i de una funció d'activació a escollir.\n",
    "* calculate_error(self, target): Encarregat de realitzar un descens de gradient per anar trobant la manera de corregir weights i bias per corregir l'error.\n",
    "* update_weights(self, learning_rate, derivative): Utilitza l'error calculat per actualitzar self.weights i self.bias."
   ]
  },
  {
   "cell_type": "code",
   "execution_count": 105,
   "id": "632bc9a1",
   "metadata": {},
   "outputs": [],
   "source": [
    "class Neurona:\n",
    "    def __init__(self, weights, bias):\n",
    "        self.weights = weights\n",
    "        self.bias = bias\n",
    "        self.inputs = None\n",
    "        self.output = None\n",
    "        self.error = None\n",
    "\n",
    "\n",
    "    def activate(self, inputs, activation_function= ACTIVATION_FUNCTIONS[FUNCTION]): \n",
    "        # Validar que es inputs tenen sa mateixa dimensió que es weights\n",
    "        if len(inputs) != len(self.weights):\n",
    "            raise ValueError(f\"Dimensions de inputs ({len(inputs)}) i dimension de weights ({len(self.weights)}) no coincideixen.\")\n",
    "    \n",
    "        # Guard inputs per despues calcular modificació de weights i biases\n",
    "        self.inputs = inputs\n",
    "        # Calcular sa regressió lineal\n",
    "        z = np.dot(inputs, self.weights) + self.bias\n",
    "        # Aplicar sa funció d'activació\n",
    "        self.output = activation_function(z)\n",
    "        return self.output\n",
    "    \n",
    "    def calculate_error(self, target):\n",
    "        # Resultat esperat li rest obtingut per tenir error\n",
    "        self.error = target - self.output\n",
    "        return self.error\n",
    "    \n",
    "    def update_weights(self, learning_rate=LEARNING_RATE, derivative= ACTIVATION_DERIVATIVES[FUNCTION]):\n",
    "        # Calcular gradient segons funció d'activació\n",
    "        gradient = self.error * derivative(self.output)\n",
    "        \n",
    "        # Actualitzar weights i bias\n",
    "        self.weights += learning_rate * gradient * self.inputs\n",
    "        self.bias += learning_rate * gradient\n",
    "\n",
    "    "
   ]
  },
  {
   "cell_type": "markdown",
   "id": "7cd6ec17",
   "metadata": {},
   "source": [
    "## Funció d'entrenament\n",
    "\n",
    "Per a cada dada del dataset i objectiu dins els objectius realitzam ses mateixes funcions, sumant error quadratic per obtenir així un valor absolut i castigant molt més errors grossos ( error = 2 -> 4, error = 0.5 -> 0.25).\n",
    "\n",
    "Així pes descendent de gradient, una derivada de un quadrat és senzill.\n"
   ]
  },
  {
   "cell_type": "code",
   "execution_count": 106,
   "id": "90a71c39",
   "metadata": {},
   "outputs": [],
   "source": [
    "def entrenament(neuron: Neurona, dataset, total_error=0):\n",
    "    outputs = []\n",
    "    for data, objectiu in zip(dataset, objectius):\n",
    "        # Anam stackeant outputs a un array per retornar despúes i poder fer un seguiment\n",
    "        outputs.append(neuron.activate(data))\n",
    "        # Calculam s'error a cada ouput\n",
    "        error = neuron.calculate_error(objectiu)\n",
    "        # Acumulam error quadràtic\n",
    "        total_error += error**2\n",
    "        # Actualizam es valors de sa regressió lineal\n",
    "        neuron.update_weights()\n",
    "    return outputs, total_error\n"
   ]
  },
  {
   "cell_type": "markdown",
   "id": "b36cac38",
   "metadata": {},
   "source": [
    "## Funció main\n",
    "\n",
    "Aquí replegam es resultats de s'entrenament i monitorejam com ha anat cada etapa.\n",
    "\n",
    "Es pesos els estic reduint ja que és millor començar amb un valor reduit."
   ]
  },
  {
   "cell_type": "code",
   "execution_count": 107,
   "id": "575fea60",
   "metadata": {},
   "outputs": [],
   "source": [
    "def main():\n",
    "    # Primer inicialitzam neurona amb pesos aleatoris\n",
    "    weights = np.random.randn(3) * 0.1\n",
    "    bias = np.random.randn()\n",
    "    neurona = Neurona(weights, bias)\n",
    "\n",
    "    '''Començam a entrenar'''\n",
    "    i = 0\n",
    "    errors = []      # Llista per guardar errors\n",
    "    accuracies = []  # Llista per guardar accuracies\n",
    "\n",
    "    best_accuracy = 0 \n",
    "    patience = 100\n",
    "    no_improvement = 0\n",
    "    last_improvement = 0  \n",
    "\n",
    "    while i < EPOCHS:\n",
    "        outputs, error = entrenament(neurona, dataset)\n",
    "        predictions = [1 if o >= 0.5 else 0 for o in outputs]\n",
    "        accuracy = sum(1 for p, t in zip(predictions, objectius) if p == t) / len(objectius)\n",
    "        \n",
    "        errors.append(error)\n",
    "        accuracies.append(accuracy)\n",
    "        \n",
    "        # Comprovam millora només en accuracy\n",
    "        if accuracy > best_accuracy:\n",
    "            best_accuracy = accuracy\n",
    "            last_improvement = i\n",
    "            no_improvement = 0\n",
    "        else:\n",
    "            no_improvement += 1\n",
    "            \n",
    "        if no_improvement >= patience:\n",
    "            print(f\"Aturat a epoch: {i} per falta de canvis\")\n",
    "            print(f\"Millor accuracy: {best_accuracy:.2%}\")\n",
    "            print(f\"Ultima millora ha estat a epoch: {last_improvement}\")\n",
    "            break\n",
    "            \n",
    "        if i % 50 == 0:\n",
    "            print(f\"Epoch {i}: Error = {error:.4f}, Accuracy = {accuracy:.2%}\")\n",
    "        \n",
    "        i += 1\n",
    "    \n",
    "    # Cream la gràfica\n",
    "    plt.figure(figsize=(12, 5))\n",
    "    \n",
    "    plt.subplot(1, 2, 1)\n",
    "    plt.plot(errors, 'r-', label='Error')\n",
    "    plt.title('Error vs Epochs')\n",
    "    plt.xlabel('Epoch')\n",
    "    plt.ylabel('Error')\n",
    "    plt.legend()\n",
    "    \n",
    "    plt.subplot(1, 2, 2)\n",
    "    plt.plot(accuracies, 'b-', label='Accuracy')\n",
    "    plt.title('Accuracy vs Epochs')\n",
    "    plt.xlabel('Epoch')\n",
    "    plt.ylabel('Accuracy')\n",
    "    plt.legend()\n",
    "    \n",
    "    plt.tight_layout()\n",
    "    plt.show()\n",
    "    \n",
    "    return neurona, errors[-1], accuracies[-1]"
   ]
  },
  {
   "cell_type": "code",
   "execution_count": 114,
   "id": "4208e131",
   "metadata": {},
   "outputs": [
    {
     "name": "stdout",
     "output_type": "stream",
     "text": [
      "Epoch 0: Error = 2.8420, Accuracy = 58.33%\n",
      "Epoch 50: Error = 1.2475, Accuracy = 91.67%\n",
      "Epoch 100: Error = 1.1390, Accuracy = 91.67%\n",
      "Aturat a epoch: 111 per falta de canvis\n",
      "Millor accuracy: 91.67%\n",
      "Ultima millora ha estat a epoch: 11\n"
     ]
    },
    {
     "data": {
      "image/png": "[encoded data removed]",
      "text/plain": [
       "<Figure size 1200x500 with 2 Axes>"
      ]
     },
     "metadata": {},
     "output_type": "display_data"
    },
    {
     "name": "stdout",
     "output_type": "stream",
     "text": [
      "(<__main__.Neurona object at 0x0000021F323A2930>, np.float64(1.1294676322499837), 0.9166666666666666)\n"
     ]
    }
   ],
   "source": [
    "print(main())"
   ]
  }
 ],
 "metadata": {
  "kernelspec": {
   "display_name": "tranformers-env",
   "language": "python",
   "name": "python3"
  },
  "language_info": {
   "codemirror_mode": {
    "name": "ipython",
    "version": 3
   },
   "file_extension": ".py",
   "mimetype": "text/x-python",
   "name": "python",
   "nbconvert_exporter": "python",
   "pygments_lexer": "ipython3",
   "version": "3.12.10"
  }
 },
 "nbformat": 4,
 "nbformat_minor": 5
}
